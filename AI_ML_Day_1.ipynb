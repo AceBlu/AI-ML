{
  "nbformat": 4,
  "nbformat_minor": 0,
  "metadata": {
    "colab": {
      "name": "AI-ML Day-1.ipynb",
      "provenance": [],
      "collapsed_sections": [],
      "authorship_tag": "ABX9TyNw56PtiUf5QR1xJ3r2k16D",
      "include_colab_link": true
    },
    "kernelspec": {
      "name": "python3",
      "display_name": "Python 3"
    },
    "language_info": {
      "name": "python"
    }
  },
  "cells": [
    {
      "cell_type": "markdown",
      "metadata": {
        "id": "view-in-github",
        "colab_type": "text"
      },
      "source": [
        "<a href=\"https://colab.research.google.com/github/AceBlu/AI-ML/blob/main/AI_ML_Day_1.ipynb\" target=\"_parent\"><img src=\"https://colab.research.google.com/assets/colab-badge.svg\" alt=\"Open In Colab\"/></a>"
      ]
    },
    {
      "cell_type": "markdown",
      "metadata": {
        "id": "BgjkTB_mAW_2"
      },
      "source": [
        "# What is AI?\n",
        "*    Intelligence Demonstrated by the machines in contrast to Natural Intelligence delivered by HUMANS \n",
        "*   Intelligence is given by feeding the experience of human to machine in the form of data\n"
      ]
    },
    {
      "cell_type": "markdown",
      "metadata": {
        "id": "des3Dzq-YZvi"
      },
      "source": [
        "# Why AI?\n",
        "*   AI Automates repetative learning and discovery through data\n",
        "*   AI adds intelligence\n",
        "*   AI analysis more and deeper data\n",
        "*   AI achieves incredible accuracy\n",
        "*   24X7\n",
        "*   Reduces man power\n"
      ]
    },
    {
      "cell_type": "markdown",
      "metadata": {
        "id": "P8dVsXTWYmUL"
      },
      "source": [
        "\n",
        "# How AI?\n",
        "(AI vs HUMAN)\n",
        "* See and Recognize: Computer Vision and Deep Learning   \n",
        " \n",
        "        Eye - Camera\n",
        "        Data - image , video \n",
        "\n",
        "*  Analyze and Learn: Machine Learning\n",
        "\n",
        "        Sensing organs - Sensors\n",
        "        Data  - Numerical data \n",
        "\n",
        "*   Listen and Speak : Natural Language processing\n",
        "\n",
        "        Ears & Mouth - Mic & Speaker\n",
        "        Data - Text\n",
        "\n",
        "\n"
      ]
    },
    {
      "cell_type": "markdown",
      "metadata": {
        "id": "p7nGj_vudHjp"
      },
      "source": [
        "# Applications of AI\n",
        "\n",
        "\n",
        "*   AI in Medical\n",
        "\n",
        "\n",
        "        1.   AI Doctor\n",
        "             Bot that will tell you medicine based on the analysis of Symptoms  and causes. \n",
        "             The Knowledge is fed by tons of medical data based on the application\n",
        "\n",
        "        2.   Physcial Applications for handicap\n",
        "             With the help of bio sensors like EMG & EEG sensor, handicaps movement \n",
        "             is analysed and trained to move the robotic arm/leg even don't have those\n",
        "\n",
        "        3.   Prediction of disease from medical image\n",
        "             It is the Application usese medical images, to classify the diseased \n",
        "             and healthy like Diabetic Retinopathy\n",
        "\n",
        "        4.   Voice Recognition for ALS patient\n",
        "             ALS(amyotropic lateral sclerosis) is a kind of disease which causes speech \n",
        "             problems, the voice of the patient completely non understandable. AI helps to\n",
        "             train the voice of ALP patient based assistance for them.\n",
        "\n",
        "\n",
        "*   AI in Agriculture\n",
        "        1. Weather prediction and Suggestions.\n",
        "        2. Plant disease detction and pesticide recommendation.\n",
        "        3. Classification of rotten vegitables and fruits.\n",
        "        4. Prediction of any countries vegitation using sattelite image\n",
        "        this prediction is based on type, quality and quantity of specific country.\n",
        "\n",
        "*   AI in Voice Assistant\n",
        "\n",
        " (Google assistant, alexa, siri, chatbot)\n",
        "        \n",
        "  Google Home, Amazon Echo, hike natasha\n",
        "    \n",
        "     \n",
        "     How  it works?\n",
        "        1. Listen:\n",
        "           Assistant is going to listen the sound and converts that audio signals \n",
        "           into text.\n",
        "        2. Regonition of words:\n",
        "           From the signal each word is regonized. \n",
        "        3. Regonition of Sentence:\n",
        "           Then sentence is formed using those words.\n",
        "        4. Reply:\n",
        "           This is the part which has high computation uses AI i.e understanding \n",
        "           the sentence and reply it back.\n",
        "        5. Speak: \n",
        "           Sentence is converted into audio signals.\n",
        "           \n",
        "*   AI in Autonomous Vehicle\n",
        "\n",
        "        1. With Sensor only(42%)\n",
        "           But not enough to have AI in real time.\n",
        "        2. With GPS and Sensors(65%)\n",
        "           GPs navigates the way to desitination \n",
        "           but stills it not enough to drive cars \n",
        "           on roads.\n",
        "        3. With Sensor Fusion(92%)\n",
        "           Vehicles with RADAR, LIDAR, camera, GPS and other sensor \n",
        "           used to avoid collision and achieve smooth driving.\n",
        "\n",
        "* AI in search engine\n",
        "\n",
        "        1. Google Suggestion : Predicts based on ur history.\n",
        "        2. SEO (Search Engine Optimization): Analysis the content\n",
        "           of website to show priority.\n",
        "        3. Result: Helps to understand the result & filter outs \n",
        "           related result in short time.  \n",
        "        4. Web ADs: Identify interest so that related results can be delivered.\n",
        "\n",
        "* AI in Social media & others\n",
        "       1. Music composing\n",
        "       2. E-Commerce\n",
        "       3. Social Media \n",
        "\n",
        "* AI in Cooking\n",
        "       AI is used for studying and identifying the pattern of molecular structure of \n",
        "       food items and to deliver new dish recipies\n",
        "       \n"
      ]
    }
  ]
}